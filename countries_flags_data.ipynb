{
 "cells": [
  {
   "cell_type": "code",
   "execution_count": 1,
   "metadata": {},
   "outputs": [
    {
     "data": {
      "text/html": [
       "<div>\n",
       "<style scoped>\n",
       "    .dataframe tbody tr th:only-of-type {\n",
       "        vertical-align: middle;\n",
       "    }\n",
       "\n",
       "    .dataframe tbody tr th {\n",
       "        vertical-align: top;\n",
       "    }\n",
       "\n",
       "    .dataframe thead th {\n",
       "        text-align: right;\n",
       "    }\n",
       "</style>\n",
       "<table border=\"1\" class=\"dataframe\">\n",
       "  <thead>\n",
       "    <tr style=\"text-align: right;\">\n",
       "      <th></th>\n",
       "      <th>country</th>\n",
       "      <th>flag_base64</th>\n",
       "    </tr>\n",
       "  </thead>\n",
       "  <tbody>\n",
       "    <tr>\n",
       "      <th>0</th>\n",
       "      <td>Afghanistan</td>\n",
       "      <td>data:image/svg+xml;base64,PHN2ZyB4bWxucz0iaHR0...</td>\n",
       "    </tr>\n",
       "  </tbody>\n",
       "</table>\n",
       "</div>"
      ],
      "text/plain": [
       "       country                                        flag_base64\n",
       "0  Afghanistan  data:image/svg+xml;base64,PHN2ZyB4bWxucz0iaHR0..."
      ]
     },
     "execution_count": 1,
     "metadata": {},
     "output_type": "execute_result"
    }
   ],
   "source": [
    "import pandas as pd\n",
    "df = pd.read_json('flag.json')\n",
    "df.head(1)"
   ]
  },
  {
   "cell_type": "code",
   "execution_count": 2,
   "metadata": {},
   "outputs": [
    {
     "data": {
      "text/plain": [
       "0         Afghanistan\n",
       "1             Albania\n",
       "2             Algeria\n",
       "3      American Samoa\n",
       "4             Andorra\n",
       "            ...      \n",
       "238    Western Sahara\n",
       "239             Yemen\n",
       "240        Yugoslavia\n",
       "241            Zambia\n",
       "242          Zimbabwe\n",
       "Name: country, Length: 243, dtype: object"
      ]
     },
     "execution_count": 2,
     "metadata": {},
     "output_type": "execute_result"
    }
   ],
   "source": [
    "df['country']"
   ]
  },
  {
   "cell_type": "code",
   "execution_count": 3,
   "metadata": {},
   "outputs": [
    {
     "data": {
      "text/plain": [
       "'Sudan'"
      ]
     },
     "execution_count": 3,
     "metadata": {},
     "output_type": "execute_result"
    }
   ],
   "source": [
    "df['country'][203]"
   ]
  },
  {
   "cell_type": "code",
   "execution_count": 4,
   "metadata": {},
   "outputs": [
    {
     "data": {
      "text/plain": [
       "0      data:image/svg+xml;base64,PHN2ZyB4bWxucz0iaHR0...\n",
       "1      data:image/svg+xml;base64,PHN2ZyB4bWxucz0iaHR0...\n",
       "2      data:image/svg+xml;base64,PHN2ZyB3aWR0aD0iOTAw...\n",
       "3      data:image/svg+xml;base64,PHN2ZyB4bWxucz0iaHR0...\n",
       "4      data:image/svg+xml;base64,PHN2ZyB4bWxucz0iaHR0...\n",
       "                             ...                        \n",
       "238    data:image/svg+xml;base64,PHN2ZyB4bWxucz0iaHR0...\n",
       "239    data:image/svg+xml;base64,PHN2ZyB4bWxucz0iaHR0...\n",
       "240                                                 None\n",
       "241    data:image/svg+xml;base64,PHN2ZyB4bWxucz0iaHR0...\n",
       "242    data:image/svg+xml;base64,PHN2ZyB3aWR0aD0iMTAw...\n",
       "Name: flag_base64, Length: 243, dtype: object"
      ]
     },
     "execution_count": 4,
     "metadata": {},
     "output_type": "execute_result"
    }
   ],
   "source": [
    "df['flag_base64']"
   ]
  },
  {
   "cell_type": "code",
   "execution_count": 5,
   "metadata": {},
   "outputs": [
    {
     "data": {
      "text/plain": [
       "242    data:image/svg+xml;base64,PHN2ZyB3aWR0aD0iMTAw...\n",
       "Name: flag_base64, dtype: object"
      ]
     },
     "execution_count": 5,
     "metadata": {},
     "output_type": "execute_result"
    }
   ],
   "source": [
    "df[df['country'] == 'Zimbabwe'].flag_base64"
   ]
  },
  {
   "cell_type": "code",
   "execution_count": 6,
   "metadata": {},
   "outputs": [],
   "source": [
    "df.to_html('flag-data.html')"
   ]
  }
 ],
 "metadata": {
  "kernelspec": {
   "display_name": "Python 3",
   "language": "python",
   "name": "python3"
  },
  "language_info": {
   "codemirror_mode": {
    "name": "ipython",
    "version": 3
   },
   "file_extension": ".py",
   "mimetype": "text/x-python",
   "name": "python",
   "nbconvert_exporter": "python",
   "pygments_lexer": "ipython3",
   "version": "3.7.6"
  }
 },
 "nbformat": 4,
 "nbformat_minor": 4
}
