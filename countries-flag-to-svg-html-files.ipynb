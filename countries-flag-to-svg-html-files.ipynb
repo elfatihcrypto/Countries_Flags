{
 "cells": [
  {
   "cell_type": "markdown",
   "metadata": {},
   "source": [
    "### Countries Flag"
   ]
  },
  {
   "cell_type": "code",
   "execution_count": 1,
   "metadata": {},
   "outputs": [],
   "source": [
    "import pandas as pd\n",
    "import base64\n",
    "\n",
    "import ipywidgets as wg\n",
    "from IPython.display import display\n",
    "\n",
    "df = pd.read_json('flag.json')"
   ]
  },
  {
   "cell_type": "code",
   "execution_count": 2,
   "metadata": {},
   "outputs": [
    {
     "data": {
      "application/vnd.jupyter.widget-view+json": {
       "model_id": "b7d23eab796a4c61a2a42fb7cc518f63",
       "version_major": 2,
       "version_minor": 0
      },
      "text/plain": [
       "Dropdown(description='Country:', index=225, options=('Afghanistan', 'Albania', 'Algeria', 'American Samoa', 'A…"
      ]
     },
     "metadata": {},
     "output_type": "display_data"
    }
   ],
   "source": [
    "## Add dropdown list\n",
    "cont = df['country']\n",
    "country = wg.widgets.Dropdown(\n",
    "    options= cont ,\n",
    "    value='United Arab Emirates',\n",
    "    description='Country:',\n",
    "    disabled=False,\n",
    ")\n",
    "country"
   ]
  },
  {
   "cell_type": "markdown",
   "metadata": {},
   "source": [
    "### Set country as index"
   ]
  },
  {
   "cell_type": "code",
   "execution_count": 3,
   "metadata": {},
   "outputs": [],
   "source": [
    "# Set country as index\n",
    "df.set_index('country', inplace=True)\n",
    "\n",
    "encode = df.loc[country.value,'flag_base64']\n"
   ]
  },
  {
   "cell_type": "markdown",
   "metadata": {},
   "source": [
    "### Create and save HTML file"
   ]
  },
  {
   "cell_type": "code",
   "execution_count": 4,
   "metadata": {},
   "outputs": [],
   "source": [
    "# Create HTML\n",
    "html_file =  f'<html>\\n <head>\\n <title>Country Flag</title>\\n <meta charset=\"utf-8\"><meta name=\"viewport\" content=\"width=device-width, initial-scale=1\">\\n <link rel=\"stylesheet\" href=\"https://maxcdn.bootstrapcdn.com/bootstrap/3.4.1/css/bootstrap.min.css\">\\n <script src=\"https://ajax.googleapis.com/ajax/libs/jquery/3.4.1/jquery.min.js\"></script>\\n <script src=\"https://maxcdn.bootstrapcdn.com/bootstrap/3.4.1/js/bootstrap.min.js\"></script>\\n </head>\\n <body>\\n <div class=\"container\">\\n <div class=\"jumbotron\">\\n <div class=\"row\">\\n <div class=\"col-md-8\"> \\n <div class=\"thumbnail\"> \\n <h4>{country.value} Flag</h4>\\n <img src=\"{encode}\">\\n </div>\\n </div>\\n </div>\\n </div>\\n </div>\\n </body>\\n </html>'"
   ]
  },
  {
   "cell_type": "code",
   "execution_count": 5,
   "metadata": {},
   "outputs": [],
   "source": [
    "# Save the HTML to file\n",
    "filename = f'{country.value}'\n",
    "saveFile = open(\"html/\"f'{filename}.html', 'w')\n",
    "saveFile.write(html_file)\n",
    "saveFile.close()"
   ]
  },
  {
   "cell_type": "markdown",
   "metadata": {},
   "source": [
    "### Create and save image file"
   ]
  },
  {
   "cell_type": "code",
   "execution_count": 6,
   "metadata": {},
   "outputs": [
    {
     "data": {
      "text/plain": [
       "b'PHN2ZyB3aWR0aD0iMTIwMCIgeG1sbnM9Imh0dHA6Ly93d3cudzMub3JnLzIwMDAvc3ZnIiBoZWlnaHQ9IjYwMCIgdmlld0JveD0iMCAwIDEyIDYiIHhtbG5zOnhsaW5rPSJodHRwOi8vd3d3LnczLm9yZy8xOTk5L3hsaW5rIj4NCjxwYXRoIGZpbGw9IiNjZTExMjYiIGQ9Im0wLDBoM3Y2aC0zeiIvPg0KPHBhdGggZmlsbD0iIzAwOWEwMCIgZD0ibTMsMGg5djJoLTl6Ii8+DQo8cGF0aCBmaWxsPSIjZmZmIiBkPSJtMywyaDl2MmgtOXoiLz4NCjxwYXRoIGQ9Im0zLDRoOXYyaC05eiIvPg0KPC9zdmc+DQo='"
      ]
     },
     "execution_count": 6,
     "metadata": {},
     "output_type": "execute_result"
    }
   ],
   "source": [
    "# Convert string to bytes\n",
    "img_data = encode[26:].encode()\n",
    "\n",
    "img_data"
   ]
  },
  {
   "cell_type": "code",
   "execution_count": 7,
   "metadata": {},
   "outputs": [],
   "source": [
    "# Convert string to bytes\n",
    "img_data = encode[26:].encode()\n",
    "\n",
    "#Convert base64 encode image and save it\n",
    "filename = f'{country.value}'\n",
    "\n",
    "saveFile2 = open(\"img/\"f'{filename}.svg', 'wb')\n",
    "saveFile2.write(base64.decodebytes(img_data))\n",
    "saveFile2.close()"
   ]
  },
  {
   "cell_type": "markdown",
   "metadata": {},
   "source": [
    "### Open image file"
   ]
  },
  {
   "cell_type": "code",
   "execution_count": 8,
   "metadata": {},
   "outputs": [],
   "source": [
    "# # Open the image file and display it\n",
    "\n",
    "# print(f'{filename} Flag')\n",
    "# file = open(\"img/\"f'{filename}.svg', \"rb\")\n",
    "# image = file.read()\n",
    "# wg.widgets.Image(\n",
    "#     value=image,\n",
    "#     format='png',\n",
    "#     width=400,\n",
    "#     height=400,\n",
    "# )"
   ]
  },
  {
   "cell_type": "code",
   "execution_count": 9,
   "metadata": {},
   "outputs": [
    {
     "name": "stdout",
     "output_type": "stream",
     "text": [
      "United Arab Emirates Flag\n"
     ]
    },
    {
     "data": {
      "image/svg+xml": [
       "<svg height=\"600\" viewBox=\"0 0 12 6\" width=\"1200\" xmlns=\"http://www.w3.org/2000/svg\" xmlns:xlink=\"http://www.w3.org/1999/xlink\">\n",
       "<path d=\"m0,0h3v6h-3z\" fill=\"#ce1126\"/>\n",
       "<path d=\"m3,0h9v2h-9z\" fill=\"#009a00\"/>\n",
       "<path d=\"m3,2h9v2h-9z\" fill=\"#fff\"/>\n",
       "<path d=\"m3,4h9v2h-9z\"/>\n",
       "</svg>"
      ],
      "text/plain": [
       "<IPython.core.display.SVG object>"
      ]
     },
     "execution_count": 9,
     "metadata": {},
     "output_type": "execute_result"
    }
   ],
   "source": [
    "print(f'{filename} Flag')\n",
    "from IPython.display import SVG\n",
    "SVG(filename=\"img/\"f'{filename}.svg')"
   ]
  }
 ],
 "metadata": {
  "kernelspec": {
   "display_name": "Python 3",
   "language": "python",
   "name": "python3"
  },
  "language_info": {
   "codemirror_mode": {
    "name": "ipython",
    "version": 3
   },
   "file_extension": ".py",
   "mimetype": "text/x-python",
   "name": "python",
   "nbconvert_exporter": "python",
   "pygments_lexer": "ipython3",
   "version": "3.7.6"
  }
 },
 "nbformat": 4,
 "nbformat_minor": 4
}
